{
 "cells": [
  {
   "cell_type": "code",
   "execution_count": 1,
   "metadata": {},
   "outputs": [],
   "source": [
    "# Import Packages\n",
    "import sys, time"
   ]
  },
  {
   "cell_type": "code",
   "execution_count": 10,
   "metadata": {},
   "outputs": [],
   "source": [
    "# Include PATHS\n",
    "DEEP_TIMING_HOME = \"/brazos/roysam/hlu8/projects/Deep-TIMING/\"\n",
    "\n",
    "sys.path.append(DEEP_TIMING_HOME + 'DT1-preprocessor/')\n",
    "\n",
    "sys.path.append(DEEP_TIMING_HOME + 'DT2-detector/Well/')\n",
    "sys.path.append(DEEP_TIMING_HOME + 'DT2-detector/Well/faster-rcnn/')\n",
    "\n",
    "sys.path.append(DEEP_TIMING_HOME + 'DT2-detector/Cell')\n",
    "\n",
    "sys.path.append(DEEP_TIMING_HOME + 'DT3-tracker/')\n",
    "\n",
    "sys.path.append(DEEP_TIMING_HOME + 'DT4-feature/')"
   ]
  },
  {
   "cell_type": "code",
   "execution_count": 20,
   "metadata": {},
   "outputs": [],
   "source": [
    "# STEP 0: Specify Parameters for experiments\n",
    "CORES = 20\n",
    "\n",
    "# DATASET = \"20161215_MM_02_MotileTar\"\n",
    "\n",
    "# DATASET = \"20161216_MM_04_ControlTar\"\n",
    "\n",
    "# DATASET = \"20170330_MM_02_Nalm6\"\n",
    "\n",
    "DATASET = \"20180720_RR_CART_NALM6_TIFF_Block1\"\n",
    "\n",
    "RAW_INPUT_PATH = \"/brazos/roysam/hlu8/projects/Deep-TIMING/Data/raw/\"\n",
    "OUTPUT_PATH = \"/brazos/roysam/hlu8/projects/Deep-TIMING/Data/results/\"\n",
    "\n",
    "microscope = 'zeiss'\n",
    "channel_index_dict = {\"c1_ORG\":\"CH0\", \"c2_ORG\":\"CH3\", \"c3_ORG\":\"CH1\", \"c4_ORG\":\"CH2\"}\n",
    "channel_name_dict = {\"c1_ORG\":\"phase_contrast\", \"c2_ORG\":\"death\", \"c3_ORG\":\"effectors\", \"c4_ORG\":\"targets\"}\n",
    "\n",
    "\n",
    "\n",
    "# Input and Output Data Type:\n",
    "Input_Type = \"uint16\" # or \"uint8\"\n",
    "Output_Type = {\"uint8\": ['c1_ORG', 'c2_ORG', 'c3_ORG', 'c4_ORG'], \"uint16\":['c2_ORG',]}\n",
    "#Output_Type = {\"uint8\": ['c3_ORG',], \"uint16\":['c3_ORG',]}\n",
    "\n",
    "# GAMMA = ['c2_ORG']\n",
    "GAMMA = []\n",
    "\n",
    "BLOCKS = ['B'+str(i).zfill(3) for i in range(1,2)]\n",
    "MAX_NANOWELL_PER_BLOCK = 36\n",
    "FRAMES = 73\n",
    "Block_Size = 2048\n",
    "Nanowell_Size = 281\n",
    "\n",
    "\n",
    "\n",
    "\n",
    "# A. Preprocessing Pipeline\n",
    "UMX_Channel = [['c3_ORG','c2_ORG', 0.95], ['c4_ORG', 'c3_ORG', 0.2]]   # Args0 - Args1 * Args2\n",
    "BKG_Channel = []\n",
    "# ENHANCE_Channel = ['c2_ORG', 'c3_ORG', 'c4_ORG']\n",
    "\n",
    "# B. Cell Detector Config\n",
    "Channel_Mix = ['CH0','CH1','CH2'] # Mix Channels for cell detection, e.g. CH0+CH1+CH2\n",
    "Cell_Detector_Type = 'FRCNN-Fast' # Other Options include [1]'FRCNN-Slow' or [2]'SSD'\n",
    "\n",
    "# C. Cell Tracker Config\n",
    "Cell_Tracker_Type = 'EZ' # Other options include [1]'EZ'\n",
    "\n",
    "# D. Feature Calculation Config\n",
    "Effector_Max_Number = 4\n",
    "Target_Max_Number = 4\n",
    "Effector_Feature_List = ['x', 'y', 'AR', 'SPEED', 'DM']\n",
    "Target_Feature_List = ['x', 'y', 'AR', 'SPEED', 'CR', 'DM']\n",
    "CNN_LSTM_DM = 'True'\n"
   ]
  },
  {
   "cell_type": "code",
   "execution_count": 21,
   "metadata": {},
   "outputs": [
    {
     "name": "stdout",
     "output_type": "stream",
     "text": [
      "Initialization Time Cost: 2.139104127883911\n"
     ]
    }
   ],
   "source": [
    "# Initialize the output folders\n",
    "from DT_Init import *\n",
    "\n",
    "t1 = time.time()\n",
    "\n",
    "DATASET_PATH = OUTPUT_PATH + DATASET + '/'\n",
    "\n",
    "DT_Initializer(DATASET_PATH, BLOCKS, CORES)\n",
    "\n",
    "print(\"Initialization Time Cost: \" + str(time.time() - t1 ))"
   ]
  },
  {
   "cell_type": "code",
   "execution_count": 19,
   "metadata": {},
   "outputs": [],
   "source": [
    "# from DT_Init import *\n",
    "\n",
    "# DATASET_PATH = OUTPUT_PATH + DATASET + '/'\n",
    "\n",
    "# DT_Reset(DATASET_PATH)"
   ]
  },
  {
   "cell_type": "code",
   "execution_count": 22,
   "metadata": {},
   "outputs": [
    {
     "name": "stdout",
     "output_type": "stream",
     "text": [
      "CH0 Sample Preparation Time Cost: 1.1994128227233887\n"
     ]
    }
   ],
   "source": [
    "# STEP 1: Detect Nanowells\n",
    "# Get the sample CH0 Image from each Block, Convert it to 8 bit\n",
    "from generate_CH0_Sample import *\n",
    "\n",
    "t1 = time.time()\n",
    "\n",
    "generate_CH0_samples_master(RAW_INPUT_PATH, OUTPUT_PATH, DATASET, BLOCKS, microscope, CORES)\n",
    "\n",
    "print(\"CH0 Sample Preparation Time Cost: \" + str(time.time() - t1 ))\n",
    "\n"
   ]
  },
  {
   "cell_type": "code",
   "execution_count": 23,
   "metadata": {},
   "outputs": [
    {
     "name": "stdout",
     "output_type": "stream",
     "text": [
      "processing B001 ......\n",
      "CH0 Sample Preparation Time Cost: 17.91649103164673\n"
     ]
    }
   ],
   "source": [
    "# Run Nanowell Detection with each Image, save the results\n",
    "from nanowell_detector import detect_nanowells\n",
    "\n",
    "t1 = time.time()\n",
    "\n",
    "PATH_TO_CKPT=DEEP_TIMING_HOME + 'DT2-detector/Well/faster-rcnn/experiment2/models/frozen_inference_graph.pb'\n",
    "PATH_TO_LABELS=DEEP_TIMING_HOME + 'DT2-detector/Well/faster-rcnn/experiment2/data/TIMING_nanowell_detection.pbtxt'\n",
    "PATH_TO_OUTPUT_DIR = OUTPUT_PATH + DATASET + '/'\n",
    "\n",
    "detect_nanowells(PATH_TO_CKPT, PATH_TO_LABELS, PATH_TO_OUTPUT_DIR, BLOCKS, Nanowell_Number=36, BLOCK_SIZE=2048)\n",
    "\n",
    "print(\"CH0 Sample Preparation Time Cost: \" + str(time.time() - t1 ))"
   ]
  },
  {
   "cell_type": "code",
   "execution_count": 24,
   "metadata": {},
   "outputs": [
    {
     "name": "stdout",
     "output_type": "stream",
     "text": [
      "UNMIXING B001 ......\n",
      "STEP-2 UNMIXING TIME COST: 22.54496169090271\n"
     ]
    }
   ],
   "source": [
    "# STEP 2.1: Preprocessing Steps if necessary(umx, bg, enhance)\n",
    "from DT_Preprocessor import *\n",
    "\n",
    "t1 = time.time()\n",
    "\n",
    "DT_UNMIX(DEEP_TIMING_HOME, RAW_INPUT_PATH, OUTPUT_PATH, DATASET, BLOCKS, FRAMES, UMX_Channel, CORES)\n",
    "\n",
    "print(\"STEP-2 UNMIXING TIME COST: \" + str(time.time() - t1))"
   ]
  },
  {
   "cell_type": "code",
   "execution_count": null,
   "metadata": {
    "collapsed": true
   },
   "outputs": [],
   "source": [
    "# STEP 2.2: ENHANCE Steps\n",
    "# min_clip_value = 315\n",
    "# max_clip_value = 1000\n",
    "# min_pixel_value = 0\n",
    "# max_pixel_value = 2000\n",
    "\n",
    "\n",
    "# ENHANCE_Channel = [\"c2_ORG\"]\n",
    "# ENHANCE_Parameter = [min_pixel_value, max_pixel_value, min_clip_value, max_clip_value]\n",
    "\n",
    "# from DT_Preprocessor import *\n",
    "\n",
    "# t1 = time.time()\n",
    "\n",
    "# DT_CLIP_ENHANCE(DEEP_TIMING_HOME, RAW_INPUT_PATH, OUTPUT_PATH, DATASET, BLOCKS, FRAMES, ENHANCE_Channel, ENHANCE_Parameter,CORES)\n",
    "\n",
    "# print(\"STEP-2.2 ENHANCE TIME COST: \" + str(time.time() - t1))"
   ]
  },
  {
   "cell_type": "code",
   "execution_count": 25,
   "metadata": {},
   "outputs": [
    {
     "name": "stdout",
     "output_type": "stream",
     "text": [
      "CROPPING BLOCK B001 ......\n",
      "STEP-3 IMAGE CROP TIME COST: 39.27587175369263\n"
     ]
    }
   ],
   "source": [
    "# STEP 3: Crop the images, put them in Bxxx/images/crop_8bit_s or Bxxx/images/crop_16bit_s\n",
    "from nanowell_cropper import *\n",
    "\n",
    "t1 = time.time()\n",
    "\n",
    "CLIP_ARGS = {\"c1_ORG\":[2000, 20000],\"c2_ORG\":[160, 180],\"c3_ORG\":[100, 800],\"c4_ORG\":[250, 1000]}\n",
    "\n",
    "DT_CROP_IMAGES(RAW_INPUT_PATH, OUTPUT_PATH, DATASET, BLOCKS, FRAMES, Output_Type, channel_index_dict, CORES, Nanowell_Size, Block_Size, CLIP_ARGS, GAMMA)\n",
    "\n",
    "print(\"STEP-3 IMAGE CROP TIME COST: \" + str(time.time() - t1))"
   ]
  },
  {
   "cell_type": "code",
   "execution_count": 26,
   "metadata": {},
   "outputs": [
    {
     "name": "stdout",
     "output_type": "stream",
     "text": [
      "Detecting Cells in B001 ...... \n",
      "STEP-4 CELL DETECTION TIME COST: 73.72362565994263\n"
     ]
    }
   ],
   "source": [
    "# STEP 4.1: Cell Detection, including Channel mixing, cell detection, bboxes cleaning\n",
    "from DT_Cell_Detector import *\n",
    "\n",
    "CH_MIX = ['CH0', 'CH1', 'CH2']\n",
    "Detector_Type = 'FRCNN-Fast'\n",
    "MAXIMUM_CELL_DETECTED = 10\n",
    "\n",
    "t1 = time.time()\n",
    "\n",
    "DT_Cell_Detector(DEEP_TIMING_HOME, OUTPUT_PATH, DATASET, BLOCKS, FRAMES, CH_MIX, Detector_Type, MAXIMUM_CELL_DETECTED, Nanowell_Size, CORES)\n",
    "\n",
    "print(\"STEP-4 CELL DETECTION TIME COST: \" + str(time.time() - t1))"
   ]
  },
  {
   "cell_type": "code",
   "execution_count": 27,
   "metadata": {},
   "outputs": [
    {
     "name": "stdout",
     "output_type": "stream",
     "text": [
      "Applying Confinement Constraint B001 ...... \n",
      "STEP-4.2 CELL DETECTION CLEANING TIME COST: 99.86983156204224\n"
     ]
    }
   ],
   "source": [
    "# STEP 4.2: Cell Detection Confinement Constraint\n",
    "from DT_Cell_Detection_Cleaner import *\n",
    "\n",
    "t1 = time.time()\n",
    "\n",
    "CC_THRESHOLD = 0.70\n",
    "SCORE_THRESHOLD = 0.70\n",
    "MAX_E_COUNT = 4\n",
    "MAX_T_COUNT = 4\n",
    "Detector_Type = 'FRCNN-Fast'\n",
    "\n",
    "DT_Cell_Cleaner(OUTPUT_PATH, DATASET, BLOCKS, FRAMES, CC_THRESHOLD, SCORE_THRESHOLD, MAX_E_COUNT, MAX_T_COUNT, Detector_Type, CORES)\n",
    "\n",
    "print(\"STEP-4.2 CELL DETECTION CLEANING TIME COST: \" + str(time.time() - t1))"
   ]
  },
  {
   "cell_type": "code",
   "execution_count": 28,
   "metadata": {},
   "outputs": [
    {
     "name": "stdout",
     "output_type": "stream",
     "text": [
      "CELL TRACKING for B001......\n",
      "STEP-5 CELL TRACKING TIME COST: 3.697517156600952\n"
     ]
    }
   ],
   "source": [
    "# # STEP 5.2: Cell Tracking, options for EZ_track and SIAMESE_track\n",
    "from DT_EZ_Tracker import *\n",
    "\n",
    "Cell_Tracker_Type = 'EZ'\n",
    "\n",
    "DETECTOR_TYPE = Cell_Detector_Type\n",
    "TRACKER_TYPE = Cell_Tracker_Type\n",
    "\n",
    "t1 = time.time()\n",
    "\n",
    "if Cell_Tracker_Type == 'EZ':\n",
    "    for BLOCK in BLOCKS:\n",
    "        print('CELL TRACKING for ' + BLOCK + '......')\n",
    "        DT_EZ_TRACKER(OUTPUT_PATH, DATASET, BLOCK, FRAMES, DETECTOR_TYPE, TRACKER_TYPE, CORES)\n",
    "    \n",
    "print(\"STEP-5 CELL TRACKING TIME COST: \" + str(time.time() - t1))    "
   ]
  },
  {
   "cell_type": "code",
   "execution_count": 29,
   "metadata": {},
   "outputs": [
    {
     "name": "stdout",
     "output_type": "stream",
     "text": [
      "FEATURE CALCULATION for B001......\n"
     ]
    },
    {
     "name": "stderr",
     "output_type": "stream",
     "text": [
      "/brazos/roysam/hlu8/anaconda2/envs/tensorflow-1.10/lib/python3.6/site-packages/skimage/measure/_regionprops.py:250: UserWarning: regionprops and image moments (including moments, normalized moments, central moments, and inertia tensor) of 2D images will change from xy coordinates to rc coordinates in version 0.16.\n",
      "See http://scikit-image.org/docs/0.14.x/release_notes_and_installation.html#deprecations for details on how to avoid this message.\n",
      "  warn(XY_TO_RC_DEPRECATION_MESSAGE)\n",
      "/brazos/roysam/hlu8/anaconda2/envs/tensorflow-1.10/lib/python3.6/site-packages/skimage/measure/_regionprops.py:260: UserWarning: regionprops and image moments (including moments, normalized moments, central moments, and inertia tensor) of 2D images will change from xy coordinates to rc coordinates in version 0.16.\n",
      "See http://scikit-image.org/docs/0.14.x/release_notes_and_installation.html#deprecations for details on how to avoid this message.\n",
      "  warn(XY_TO_RC_DEPRECATION_MESSAGE)\n"
     ]
    },
    {
     "name": "stdout",
     "output_type": "stream",
     "text": [
      "ASSEMBLE ALL THE FEATURES......\n",
      "BLOCK : B001 NANOWELL: 15\n",
      "ADDING lines: 49\n",
      "BLOCK : B001 NANOWELL: 3\n",
      "ADDING lines: 49\n",
      "BLOCK : B001 NANOWELL: 5\n",
      "ADDING lines: 49\n",
      "BLOCK : B001 NANOWELL: 1\n",
      "ADDING lines: 49\n",
      "BLOCK : B001 NANOWELL: 8\n",
      "ADDING lines: 49\n",
      "BLOCK : B001 NANOWELL: 6\n",
      "ADDING lines: 49\n",
      "BLOCK : B001 NANOWELL: 14\n",
      "ADDING lines: 49\n",
      "BLOCK : B001 NANOWELL: 7\n",
      "ADDING lines: 49\n",
      "BLOCK : B001 NANOWELL: 11\n",
      "ADDING lines: 49\n",
      "BLOCK : B001 NANOWELL: 9\n",
      "ADDING lines: 49\n",
      "BLOCK : B001 NANOWELL: 2\n",
      "ADDING lines: 49\n",
      "BLOCK : B001 NANOWELL: 16\n",
      "ADDING lines: 49\n",
      "BLOCK : B001 NANOWELL: 18\n",
      "ADDING lines: 49\n",
      "BLOCK : B001 NANOWELL: 20\n",
      "ADDING lines: 49\n",
      "BLOCK : B001 NANOWELL: 21\n",
      "ADDING lines: 49\n",
      "BLOCK : B001 NANOWELL: 22\n",
      "ADDING lines: 49\n",
      "BLOCK : B001 NANOWELL: 23\n",
      "ADDING lines: 49\n",
      "BLOCK : B001 NANOWELL: 25\n",
      "ADDING lines: 49\n",
      "BLOCK : B001 NANOWELL: 26\n",
      "ADDING lines: 49\n",
      "BLOCK : B001 NANOWELL: 27\n",
      "ADDING lines: 49\n",
      "BLOCK : B001 NANOWELL: 28\n",
      "ADDING lines: 49\n",
      "STEP-6 CELL FEATURE CALCULATION TIME COST: 4.500833749771118\n"
     ]
    }
   ],
   "source": [
    "# STEP 6: Feature Calculation, including CNN-LSTM Model/Apoptosis Intensity calculation using CH3\n",
    "\n",
    "from DT_FEATURE_WIZARD import *\n",
    "\n",
    "DETECTOR_TYPE = Cell_Detector_Type\n",
    "TRACKER_TYPE = Cell_Tracker_Type\n",
    "\n",
    "Effector_Max_Number = 3\n",
    "Target_Max_Number = 3\n",
    "Effector_Feature_List = ['x', 'y', 'AR', 'SPEED', 'DM']\n",
    "Target_Feature_List = ['x', 'y', 'AR', 'SPEED', 'CR', 'DM']\n",
    "\n",
    "PARAMETER = [Effector_Max_Number, Effector_Feature_List, Target_Max_Number, Target_Feature_List]\n",
    "\n",
    "t1 = time.time()\n",
    "\n",
    "for BLOCK in BLOCKS:\n",
    "    print('FEATURE CALCULATION for ' + BLOCK + '......')\n",
    "    DT_FEATURE_EXTRACTOR(OUTPUT_PATH, DATASET, BLOCK, FRAMES, DETECTOR_TYPE, TRACKER_TYPE, PARAMETER, CORES)\n",
    "    \n",
    "generate_combined_feat_table(OUTPUT_PATH, DATASET, BLOCKS, FRAMES, DETECTOR_TYPE)\n",
    "    \n",
    "print(\"STEP-6 CELL FEATURE CALCULATION TIME COST: \" + str(time.time() - t1))   "
   ]
  },
  {
   "cell_type": "code",
   "execution_count": null,
   "metadata": {
    "collapsed": true
   },
   "outputs": [],
   "source": []
  },
  {
   "cell_type": "code",
   "execution_count": null,
   "metadata": {
    "collapsed": true
   },
   "outputs": [],
   "source": []
  },
  {
   "cell_type": "code",
   "execution_count": null,
   "metadata": {
    "collapsed": true
   },
   "outputs": [],
   "source": []
  },
  {
   "cell_type": "code",
   "execution_count": null,
   "metadata": {
    "collapsed": true
   },
   "outputs": [],
   "source": []
  },
  {
   "cell_type": "code",
   "execution_count": null,
   "metadata": {
    "collapsed": true
   },
   "outputs": [],
   "source": []
  },
  {
   "cell_type": "code",
   "execution_count": null,
   "metadata": {
    "collapsed": true
   },
   "outputs": [],
   "source": []
  }
 ],
 "metadata": {
  "kernelspec": {
   "display_name": "Python 3",
   "language": "python",
   "name": "python3"
  },
  "language_info": {
   "codemirror_mode": {
    "name": "ipython",
    "version": 3
   },
   "file_extension": ".py",
   "mimetype": "text/x-python",
   "name": "python",
   "nbconvert_exporter": "python",
   "pygments_lexer": "ipython3",
   "version": "3.6.6"
  }
 },
 "nbformat": 4,
 "nbformat_minor": 2
}
